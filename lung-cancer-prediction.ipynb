{
 "cells": [
  {
   "cell_type": "code",
   "execution_count": 1,
   "id": "86ea3253",
   "metadata": {
    "execution": {
     "iopub.execute_input": "2022-07-22T15:22:31.901625Z",
     "iopub.status.busy": "2022-07-22T15:22:31.901185Z",
     "iopub.status.idle": "2022-07-22T15:22:33.003410Z",
     "shell.execute_reply": "2022-07-22T15:22:33.002338Z"
    },
    "papermill": {
     "duration": 1.116303,
     "end_time": "2022-07-22T15:22:33.006267",
     "exception": false,
     "start_time": "2022-07-22T15:22:31.889964",
     "status": "completed"
    },
    "tags": []
   },
   "outputs": [],
   "source": [
    "#Importing Libraries\n",
    "import pandas as pd\n",
    "import numpy as np\n",
    "import matplotlib.pyplot as plt\n",
    "import seaborn as sns\n",
    "\n",
    "#For ignoring warning\n",
    "import warnings\n",
    "warnings.filterwarnings(\"ignore\")"
   ]
  },
  {
   "cell_type": "code",
   "execution_count": 2,
   "id": "bc9476bc",
   "metadata": {
    "execution": {
     "iopub.execute_input": "2022-07-22T15:22:33.026157Z",
     "iopub.status.busy": "2022-07-22T15:22:33.025755Z",
     "iopub.status.idle": "2022-07-22T15:22:33.076307Z",
     "shell.execute_reply": "2022-07-22T15:22:33.075284Z"
    },
    "papermill": {
     "duration": 0.065023,
     "end_time": "2022-07-22T15:22:33.080498",
     "exception": false,
     "start_time": "2022-07-22T15:22:33.015475",
     "status": "completed"
    },
    "tags": []
   },
   "outputs": [
    {
     "data": {
      "text/html": [
       "<div>\n",
       "<style scoped>\n",
       "    .dataframe tbody tr th:only-of-type {\n",
       "        vertical-align: middle;\n",
       "    }\n",
       "\n",
       "    .dataframe tbody tr th {\n",
       "        vertical-align: top;\n",
       "    }\n",
       "\n",
       "    .dataframe thead th {\n",
       "        text-align: right;\n",
       "    }\n",
       "</style>\n",
       "<table border=\"1\" class=\"dataframe\">\n",
       "  <thead>\n",
       "    <tr style=\"text-align: right;\">\n",
       "      <th></th>\n",
       "      <th>GENDER</th>\n",
       "      <th>AGE</th>\n",
       "      <th>SMOKING</th>\n",
       "      <th>YELLOW_FINGERS</th>\n",
       "      <th>ANXIETY</th>\n",
       "      <th>PEER_PRESSURE</th>\n",
       "      <th>CHRONIC DISEASE</th>\n",
       "      <th>FATIGUE</th>\n",
       "      <th>ALLERGY</th>\n",
       "      <th>WHEEZING</th>\n",
       "      <th>ALCOHOL CONSUMING</th>\n",
       "      <th>COUGHING</th>\n",
       "      <th>SHORTNESS OF BREATH</th>\n",
       "      <th>SWALLOWING DIFFICULTY</th>\n",
       "      <th>CHEST PAIN</th>\n",
       "      <th>LUNG_CANCER</th>\n",
       "    </tr>\n",
       "  </thead>\n",
       "  <tbody>\n",
       "    <tr>\n",
       "      <th>0</th>\n",
       "      <td>M</td>\n",
       "      <td>69</td>\n",
       "      <td>1</td>\n",
       "      <td>2</td>\n",
       "      <td>2</td>\n",
       "      <td>1</td>\n",
       "      <td>1</td>\n",
       "      <td>2</td>\n",
       "      <td>1</td>\n",
       "      <td>2</td>\n",
       "      <td>2</td>\n",
       "      <td>2</td>\n",
       "      <td>2</td>\n",
       "      <td>2</td>\n",
       "      <td>2</td>\n",
       "      <td>YES</td>\n",
       "    </tr>\n",
       "    <tr>\n",
       "      <th>1</th>\n",
       "      <td>M</td>\n",
       "      <td>74</td>\n",
       "      <td>2</td>\n",
       "      <td>1</td>\n",
       "      <td>1</td>\n",
       "      <td>1</td>\n",
       "      <td>2</td>\n",
       "      <td>2</td>\n",
       "      <td>2</td>\n",
       "      <td>1</td>\n",
       "      <td>1</td>\n",
       "      <td>1</td>\n",
       "      <td>2</td>\n",
       "      <td>2</td>\n",
       "      <td>2</td>\n",
       "      <td>YES</td>\n",
       "    </tr>\n",
       "    <tr>\n",
       "      <th>2</th>\n",
       "      <td>F</td>\n",
       "      <td>59</td>\n",
       "      <td>1</td>\n",
       "      <td>1</td>\n",
       "      <td>1</td>\n",
       "      <td>2</td>\n",
       "      <td>1</td>\n",
       "      <td>2</td>\n",
       "      <td>1</td>\n",
       "      <td>2</td>\n",
       "      <td>1</td>\n",
       "      <td>2</td>\n",
       "      <td>2</td>\n",
       "      <td>1</td>\n",
       "      <td>2</td>\n",
       "      <td>NO</td>\n",
       "    </tr>\n",
       "    <tr>\n",
       "      <th>3</th>\n",
       "      <td>M</td>\n",
       "      <td>63</td>\n",
       "      <td>2</td>\n",
       "      <td>2</td>\n",
       "      <td>2</td>\n",
       "      <td>1</td>\n",
       "      <td>1</td>\n",
       "      <td>1</td>\n",
       "      <td>1</td>\n",
       "      <td>1</td>\n",
       "      <td>2</td>\n",
       "      <td>1</td>\n",
       "      <td>1</td>\n",
       "      <td>2</td>\n",
       "      <td>2</td>\n",
       "      <td>NO</td>\n",
       "    </tr>\n",
       "    <tr>\n",
       "      <th>4</th>\n",
       "      <td>F</td>\n",
       "      <td>63</td>\n",
       "      <td>1</td>\n",
       "      <td>2</td>\n",
       "      <td>1</td>\n",
       "      <td>1</td>\n",
       "      <td>1</td>\n",
       "      <td>1</td>\n",
       "      <td>1</td>\n",
       "      <td>2</td>\n",
       "      <td>1</td>\n",
       "      <td>2</td>\n",
       "      <td>2</td>\n",
       "      <td>1</td>\n",
       "      <td>1</td>\n",
       "      <td>NO</td>\n",
       "    </tr>\n",
       "    <tr>\n",
       "      <th>...</th>\n",
       "      <td>...</td>\n",
       "      <td>...</td>\n",
       "      <td>...</td>\n",
       "      <td>...</td>\n",
       "      <td>...</td>\n",
       "      <td>...</td>\n",
       "      <td>...</td>\n",
       "      <td>...</td>\n",
       "      <td>...</td>\n",
       "      <td>...</td>\n",
       "      <td>...</td>\n",
       "      <td>...</td>\n",
       "      <td>...</td>\n",
       "      <td>...</td>\n",
       "      <td>...</td>\n",
       "      <td>...</td>\n",
       "    </tr>\n",
       "    <tr>\n",
       "      <th>304</th>\n",
       "      <td>F</td>\n",
       "      <td>56</td>\n",
       "      <td>1</td>\n",
       "      <td>1</td>\n",
       "      <td>1</td>\n",
       "      <td>2</td>\n",
       "      <td>2</td>\n",
       "      <td>2</td>\n",
       "      <td>1</td>\n",
       "      <td>1</td>\n",
       "      <td>2</td>\n",
       "      <td>2</td>\n",
       "      <td>2</td>\n",
       "      <td>2</td>\n",
       "      <td>1</td>\n",
       "      <td>YES</td>\n",
       "    </tr>\n",
       "    <tr>\n",
       "      <th>305</th>\n",
       "      <td>M</td>\n",
       "      <td>70</td>\n",
       "      <td>2</td>\n",
       "      <td>1</td>\n",
       "      <td>1</td>\n",
       "      <td>1</td>\n",
       "      <td>1</td>\n",
       "      <td>2</td>\n",
       "      <td>2</td>\n",
       "      <td>2</td>\n",
       "      <td>2</td>\n",
       "      <td>2</td>\n",
       "      <td>2</td>\n",
       "      <td>1</td>\n",
       "      <td>2</td>\n",
       "      <td>YES</td>\n",
       "    </tr>\n",
       "    <tr>\n",
       "      <th>306</th>\n",
       "      <td>M</td>\n",
       "      <td>58</td>\n",
       "      <td>2</td>\n",
       "      <td>1</td>\n",
       "      <td>1</td>\n",
       "      <td>1</td>\n",
       "      <td>1</td>\n",
       "      <td>1</td>\n",
       "      <td>2</td>\n",
       "      <td>2</td>\n",
       "      <td>2</td>\n",
       "      <td>2</td>\n",
       "      <td>1</td>\n",
       "      <td>1</td>\n",
       "      <td>2</td>\n",
       "      <td>YES</td>\n",
       "    </tr>\n",
       "    <tr>\n",
       "      <th>307</th>\n",
       "      <td>M</td>\n",
       "      <td>67</td>\n",
       "      <td>2</td>\n",
       "      <td>1</td>\n",
       "      <td>2</td>\n",
       "      <td>1</td>\n",
       "      <td>1</td>\n",
       "      <td>2</td>\n",
       "      <td>2</td>\n",
       "      <td>1</td>\n",
       "      <td>2</td>\n",
       "      <td>2</td>\n",
       "      <td>2</td>\n",
       "      <td>1</td>\n",
       "      <td>2</td>\n",
       "      <td>YES</td>\n",
       "    </tr>\n",
       "    <tr>\n",
       "      <th>308</th>\n",
       "      <td>M</td>\n",
       "      <td>62</td>\n",
       "      <td>1</td>\n",
       "      <td>1</td>\n",
       "      <td>1</td>\n",
       "      <td>2</td>\n",
       "      <td>1</td>\n",
       "      <td>2</td>\n",
       "      <td>2</td>\n",
       "      <td>2</td>\n",
       "      <td>2</td>\n",
       "      <td>1</td>\n",
       "      <td>1</td>\n",
       "      <td>2</td>\n",
       "      <td>1</td>\n",
       "      <td>YES</td>\n",
       "    </tr>\n",
       "  </tbody>\n",
       "</table>\n",
       "<p>309 rows × 16 columns</p>\n",
       "</div>"
      ],
      "text/plain": [
       "    GENDER  AGE  SMOKING  YELLOW_FINGERS  ANXIETY  PEER_PRESSURE  \\\n",
       "0        M   69        1               2        2              1   \n",
       "1        M   74        2               1        1              1   \n",
       "2        F   59        1               1        1              2   \n",
       "3        M   63        2               2        2              1   \n",
       "4        F   63        1               2        1              1   \n",
       "..     ...  ...      ...             ...      ...            ...   \n",
       "304      F   56        1               1        1              2   \n",
       "305      M   70        2               1        1              1   \n",
       "306      M   58        2               1        1              1   \n",
       "307      M   67        2               1        2              1   \n",
       "308      M   62        1               1        1              2   \n",
       "\n",
       "     CHRONIC DISEASE  FATIGUE   ALLERGY   WHEEZING  ALCOHOL CONSUMING  \\\n",
       "0                  1         2         1         2                  2   \n",
       "1                  2         2         2         1                  1   \n",
       "2                  1         2         1         2                  1   \n",
       "3                  1         1         1         1                  2   \n",
       "4                  1         1         1         2                  1   \n",
       "..               ...       ...       ...       ...                ...   \n",
       "304                2         2         1         1                  2   \n",
       "305                1         2         2         2                  2   \n",
       "306                1         1         2         2                  2   \n",
       "307                1         2         2         1                  2   \n",
       "308                1         2         2         2                  2   \n",
       "\n",
       "     COUGHING  SHORTNESS OF BREATH  SWALLOWING DIFFICULTY  CHEST PAIN  \\\n",
       "0           2                    2                      2           2   \n",
       "1           1                    2                      2           2   \n",
       "2           2                    2                      1           2   \n",
       "3           1                    1                      2           2   \n",
       "4           2                    2                      1           1   \n",
       "..        ...                  ...                    ...         ...   \n",
       "304         2                    2                      2           1   \n",
       "305         2                    2                      1           2   \n",
       "306         2                    1                      1           2   \n",
       "307         2                    2                      1           2   \n",
       "308         1                    1                      2           1   \n",
       "\n",
       "    LUNG_CANCER  \n",
       "0           YES  \n",
       "1           YES  \n",
       "2            NO  \n",
       "3            NO  \n",
       "4            NO  \n",
       "..          ...  \n",
       "304         YES  \n",
       "305         YES  \n",
       "306         YES  \n",
       "307         YES  \n",
       "308         YES  \n",
       "\n",
       "[309 rows x 16 columns]"
      ]
     },
     "execution_count": 2,
     "metadata": {},
     "output_type": "execute_result"
    }
   ],
   "source": [
    "df=pd.read_csv('../input/lung-cancer/survey lung cancer.csv')\n",
    "df"
   ]
  },
  {
   "cell_type": "markdown",
   "id": "5551dbcb",
   "metadata": {
    "papermill": {
     "duration": 0.008657,
     "end_time": "2022-07-22T15:22:33.098487",
     "exception": false,
     "start_time": "2022-07-22T15:22:33.089830",
     "status": "completed"
    },
    "tags": []
   },
   "source": [
    "**Note: In this dataset, YES=2 & NO=1**"
   ]
  },
  {
   "cell_type": "code",
   "execution_count": 3,
   "id": "7c716ed1",
   "metadata": {
    "execution": {
     "iopub.execute_input": "2022-07-22T15:22:33.118300Z",
     "iopub.status.busy": "2022-07-22T15:22:33.117543Z",
     "iopub.status.idle": "2022-07-22T15:22:33.124528Z",
     "shell.execute_reply": "2022-07-22T15:22:33.123623Z"
    },
    "papermill": {
     "duration": 0.019848,
     "end_time": "2022-07-22T15:22:33.127170",
     "exception": false,
     "start_time": "2022-07-22T15:22:33.107322",
     "status": "completed"
    },
    "tags": []
   },
   "outputs": [
    {
     "data": {
      "text/plain": [
       "(309, 16)"
      ]
     },
     "execution_count": 3,
     "metadata": {},
     "output_type": "execute_result"
    }
   ],
   "source": [
    "df.shape"
   ]
  },
  {
   "cell_type": "code",
   "execution_count": 4,
   "id": "2225313d",
   "metadata": {
    "execution": {
     "iopub.execute_input": "2022-07-22T15:22:33.148445Z",
     "iopub.status.busy": "2022-07-22T15:22:33.147672Z",
     "iopub.status.idle": "2022-07-22T15:22:33.165036Z",
     "shell.execute_reply": "2022-07-22T15:22:33.163596Z"
    },
    "papermill": {
     "duration": 0.030794,
     "end_time": "2022-07-22T15:22:33.167732",
     "exception": false,
     "start_time": "2022-07-22T15:22:33.136938",
     "status": "completed"
    },
    "tags": []
   },
   "outputs": [
    {
     "data": {
      "text/plain": [
       "33"
      ]
     },
     "execution_count": 4,
     "metadata": {},
     "output_type": "execute_result"
    }
   ],
   "source": [
    "#Checking for Duplicates\n",
    "df.duplicated().sum()"
   ]
  },
  {
   "cell_type": "code",
   "execution_count": 5,
   "id": "78b325e0",
   "metadata": {
    "execution": {
     "iopub.execute_input": "2022-07-22T15:22:33.188220Z",
     "iopub.status.busy": "2022-07-22T15:22:33.187514Z",
     "iopub.status.idle": "2022-07-22T15:22:33.196085Z",
     "shell.execute_reply": "2022-07-22T15:22:33.194895Z"
    },
    "papermill": {
     "duration": 0.021662,
     "end_time": "2022-07-22T15:22:33.198642",
     "exception": false,
     "start_time": "2022-07-22T15:22:33.176980",
     "status": "completed"
    },
    "tags": []
   },
   "outputs": [],
   "source": [
    "#Removing Duplicates\n",
    "df=df.drop_duplicates()"
   ]
  },
  {
   "cell_type": "code",
   "execution_count": 6,
   "id": "98f3f2c9",
   "metadata": {
    "execution": {
     "iopub.execute_input": "2022-07-22T15:22:33.219037Z",
     "iopub.status.busy": "2022-07-22T15:22:33.218616Z",
     "iopub.status.idle": "2022-07-22T15:22:33.228780Z",
     "shell.execute_reply": "2022-07-22T15:22:33.227493Z"
    },
    "papermill": {
     "duration": 0.023478,
     "end_time": "2022-07-22T15:22:33.231280",
     "exception": false,
     "start_time": "2022-07-22T15:22:33.207802",
     "status": "completed"
    },
    "tags": []
   },
   "outputs": [
    {
     "data": {
      "text/plain": [
       "GENDER                   0\n",
       "AGE                      0\n",
       "SMOKING                  0\n",
       "YELLOW_FINGERS           0\n",
       "ANXIETY                  0\n",
       "PEER_PRESSURE            0\n",
       "CHRONIC DISEASE          0\n",
       "FATIGUE                  0\n",
       "ALLERGY                  0\n",
       "WHEEZING                 0\n",
       "ALCOHOL CONSUMING        0\n",
       "COUGHING                 0\n",
       "SHORTNESS OF BREATH      0\n",
       "SWALLOWING DIFFICULTY    0\n",
       "CHEST PAIN               0\n",
       "LUNG_CANCER              0\n",
       "dtype: int64"
      ]
     },
     "execution_count": 6,
     "metadata": {},
     "output_type": "execute_result"
    }
   ],
   "source": [
    "#Checking for null values\n",
    "df.isnull().sum()"
   ]
  },
  {
   "cell_type": "code",
   "execution_count": 7,
   "id": "bcc4298c",
   "metadata": {
    "execution": {
     "iopub.execute_input": "2022-07-22T15:22:33.253455Z",
     "iopub.status.busy": "2022-07-22T15:22:33.252694Z",
     "iopub.status.idle": "2022-07-22T15:22:33.271097Z",
     "shell.execute_reply": "2022-07-22T15:22:33.269913Z"
    },
    "papermill": {
     "duration": 0.032641,
     "end_time": "2022-07-22T15:22:33.273676",
     "exception": false,
     "start_time": "2022-07-22T15:22:33.241035",
     "status": "completed"
    },
    "tags": []
   },
   "outputs": [
    {
     "name": "stdout",
     "output_type": "stream",
     "text": [
      "<class 'pandas.core.frame.DataFrame'>\n",
      "Int64Index: 276 entries, 0 to 283\n",
      "Data columns (total 16 columns):\n",
      " #   Column                 Non-Null Count  Dtype \n",
      "---  ------                 --------------  ----- \n",
      " 0   GENDER                 276 non-null    object\n",
      " 1   AGE                    276 non-null    int64 \n",
      " 2   SMOKING                276 non-null    int64 \n",
      " 3   YELLOW_FINGERS         276 non-null    int64 \n",
      " 4   ANXIETY                276 non-null    int64 \n",
      " 5   PEER_PRESSURE          276 non-null    int64 \n",
      " 6   CHRONIC DISEASE        276 non-null    int64 \n",
      " 7   FATIGUE                276 non-null    int64 \n",
      " 8   ALLERGY                276 non-null    int64 \n",
      " 9   WHEEZING               276 non-null    int64 \n",
      " 10  ALCOHOL CONSUMING      276 non-null    int64 \n",
      " 11  COUGHING               276 non-null    int64 \n",
      " 12  SHORTNESS OF BREATH    276 non-null    int64 \n",
      " 13  SWALLOWING DIFFICULTY  276 non-null    int64 \n",
      " 14  CHEST PAIN             276 non-null    int64 \n",
      " 15  LUNG_CANCER            276 non-null    object\n",
      "dtypes: int64(14), object(2)\n",
      "memory usage: 36.7+ KB\n"
     ]
    }
   ],
   "source": [
    "df.info()"
   ]
  },
  {
   "cell_type": "code",
   "execution_count": 8,
   "id": "8d420487",
   "metadata": {
    "execution": {
     "iopub.execute_input": "2022-07-22T15:22:33.295385Z",
     "iopub.status.busy": "2022-07-22T15:22:33.294336Z",
     "iopub.status.idle": "2022-07-22T15:22:33.349500Z",
     "shell.execute_reply": "2022-07-22T15:22:33.348111Z"
    },
    "papermill": {
     "duration": 0.068346,
     "end_time": "2022-07-22T15:22:33.352002",
     "exception": false,
     "start_time": "2022-07-22T15:22:33.283656",
     "status": "completed"
    },
    "tags": []
   },
   "outputs": [
    {
     "data": {
      "text/html": [
       "<div>\n",
       "<style scoped>\n",
       "    .dataframe tbody tr th:only-of-type {\n",
       "        vertical-align: middle;\n",
       "    }\n",
       "\n",
       "    .dataframe tbody tr th {\n",
       "        vertical-align: top;\n",
       "    }\n",
       "\n",
       "    .dataframe thead th {\n",
       "        text-align: right;\n",
       "    }\n",
       "</style>\n",
       "<table border=\"1\" class=\"dataframe\">\n",
       "  <thead>\n",
       "    <tr style=\"text-align: right;\">\n",
       "      <th></th>\n",
       "      <th>AGE</th>\n",
       "      <th>SMOKING</th>\n",
       "      <th>YELLOW_FINGERS</th>\n",
       "      <th>ANXIETY</th>\n",
       "      <th>PEER_PRESSURE</th>\n",
       "      <th>CHRONIC DISEASE</th>\n",
       "      <th>FATIGUE</th>\n",
       "      <th>ALLERGY</th>\n",
       "      <th>WHEEZING</th>\n",
       "      <th>ALCOHOL CONSUMING</th>\n",
       "      <th>COUGHING</th>\n",
       "      <th>SHORTNESS OF BREATH</th>\n",
       "      <th>SWALLOWING DIFFICULTY</th>\n",
       "      <th>CHEST PAIN</th>\n",
       "    </tr>\n",
       "  </thead>\n",
       "  <tbody>\n",
       "    <tr>\n",
       "      <th>count</th>\n",
       "      <td>276.000000</td>\n",
       "      <td>276.000000</td>\n",
       "      <td>276.000000</td>\n",
       "      <td>276.000000</td>\n",
       "      <td>276.000000</td>\n",
       "      <td>276.000000</td>\n",
       "      <td>276.000000</td>\n",
       "      <td>276.000000</td>\n",
       "      <td>276.000000</td>\n",
       "      <td>276.000000</td>\n",
       "      <td>276.000000</td>\n",
       "      <td>276.000000</td>\n",
       "      <td>276.000000</td>\n",
       "      <td>276.000000</td>\n",
       "    </tr>\n",
       "    <tr>\n",
       "      <th>mean</th>\n",
       "      <td>62.909420</td>\n",
       "      <td>1.543478</td>\n",
       "      <td>1.576087</td>\n",
       "      <td>1.496377</td>\n",
       "      <td>1.507246</td>\n",
       "      <td>1.521739</td>\n",
       "      <td>1.663043</td>\n",
       "      <td>1.547101</td>\n",
       "      <td>1.547101</td>\n",
       "      <td>1.550725</td>\n",
       "      <td>1.576087</td>\n",
       "      <td>1.630435</td>\n",
       "      <td>1.467391</td>\n",
       "      <td>1.557971</td>\n",
       "    </tr>\n",
       "    <tr>\n",
       "      <th>std</th>\n",
       "      <td>8.379355</td>\n",
       "      <td>0.499011</td>\n",
       "      <td>0.495075</td>\n",
       "      <td>0.500895</td>\n",
       "      <td>0.500856</td>\n",
       "      <td>0.500435</td>\n",
       "      <td>0.473529</td>\n",
       "      <td>0.498681</td>\n",
       "      <td>0.498681</td>\n",
       "      <td>0.498324</td>\n",
       "      <td>0.495075</td>\n",
       "      <td>0.483564</td>\n",
       "      <td>0.499842</td>\n",
       "      <td>0.497530</td>\n",
       "    </tr>\n",
       "    <tr>\n",
       "      <th>min</th>\n",
       "      <td>21.000000</td>\n",
       "      <td>1.000000</td>\n",
       "      <td>1.000000</td>\n",
       "      <td>1.000000</td>\n",
       "      <td>1.000000</td>\n",
       "      <td>1.000000</td>\n",
       "      <td>1.000000</td>\n",
       "      <td>1.000000</td>\n",
       "      <td>1.000000</td>\n",
       "      <td>1.000000</td>\n",
       "      <td>1.000000</td>\n",
       "      <td>1.000000</td>\n",
       "      <td>1.000000</td>\n",
       "      <td>1.000000</td>\n",
       "    </tr>\n",
       "    <tr>\n",
       "      <th>25%</th>\n",
       "      <td>57.750000</td>\n",
       "      <td>1.000000</td>\n",
       "      <td>1.000000</td>\n",
       "      <td>1.000000</td>\n",
       "      <td>1.000000</td>\n",
       "      <td>1.000000</td>\n",
       "      <td>1.000000</td>\n",
       "      <td>1.000000</td>\n",
       "      <td>1.000000</td>\n",
       "      <td>1.000000</td>\n",
       "      <td>1.000000</td>\n",
       "      <td>1.000000</td>\n",
       "      <td>1.000000</td>\n",
       "      <td>1.000000</td>\n",
       "    </tr>\n",
       "    <tr>\n",
       "      <th>50%</th>\n",
       "      <td>62.500000</td>\n",
       "      <td>2.000000</td>\n",
       "      <td>2.000000</td>\n",
       "      <td>1.000000</td>\n",
       "      <td>2.000000</td>\n",
       "      <td>2.000000</td>\n",
       "      <td>2.000000</td>\n",
       "      <td>2.000000</td>\n",
       "      <td>2.000000</td>\n",
       "      <td>2.000000</td>\n",
       "      <td>2.000000</td>\n",
       "      <td>2.000000</td>\n",
       "      <td>1.000000</td>\n",
       "      <td>2.000000</td>\n",
       "    </tr>\n",
       "    <tr>\n",
       "      <th>75%</th>\n",
       "      <td>69.000000</td>\n",
       "      <td>2.000000</td>\n",
       "      <td>2.000000</td>\n",
       "      <td>2.000000</td>\n",
       "      <td>2.000000</td>\n",
       "      <td>2.000000</td>\n",
       "      <td>2.000000</td>\n",
       "      <td>2.000000</td>\n",
       "      <td>2.000000</td>\n",
       "      <td>2.000000</td>\n",
       "      <td>2.000000</td>\n",
       "      <td>2.000000</td>\n",
       "      <td>2.000000</td>\n",
       "      <td>2.000000</td>\n",
       "    </tr>\n",
       "    <tr>\n",
       "      <th>max</th>\n",
       "      <td>87.000000</td>\n",
       "      <td>2.000000</td>\n",
       "      <td>2.000000</td>\n",
       "      <td>2.000000</td>\n",
       "      <td>2.000000</td>\n",
       "      <td>2.000000</td>\n",
       "      <td>2.000000</td>\n",
       "      <td>2.000000</td>\n",
       "      <td>2.000000</td>\n",
       "      <td>2.000000</td>\n",
       "      <td>2.000000</td>\n",
       "      <td>2.000000</td>\n",
       "      <td>2.000000</td>\n",
       "      <td>2.000000</td>\n",
       "    </tr>\n",
       "  </tbody>\n",
       "</table>\n",
       "</div>"
      ],
      "text/plain": [
       "              AGE     SMOKING  YELLOW_FINGERS     ANXIETY  PEER_PRESSURE  \\\n",
       "count  276.000000  276.000000      276.000000  276.000000     276.000000   \n",
       "mean    62.909420    1.543478        1.576087    1.496377       1.507246   \n",
       "std      8.379355    0.499011        0.495075    0.500895       0.500856   \n",
       "min     21.000000    1.000000        1.000000    1.000000       1.000000   \n",
       "25%     57.750000    1.000000        1.000000    1.000000       1.000000   \n",
       "50%     62.500000    2.000000        2.000000    1.000000       2.000000   \n",
       "75%     69.000000    2.000000        2.000000    2.000000       2.000000   \n",
       "max     87.000000    2.000000        2.000000    2.000000       2.000000   \n",
       "\n",
       "       CHRONIC DISEASE    FATIGUE     ALLERGY     WHEEZING  ALCOHOL CONSUMING  \\\n",
       "count       276.000000  276.000000  276.000000  276.000000         276.000000   \n",
       "mean          1.521739    1.663043    1.547101    1.547101           1.550725   \n",
       "std           0.500435    0.473529    0.498681    0.498681           0.498324   \n",
       "min           1.000000    1.000000    1.000000    1.000000           1.000000   \n",
       "25%           1.000000    1.000000    1.000000    1.000000           1.000000   \n",
       "50%           2.000000    2.000000    2.000000    2.000000           2.000000   \n",
       "75%           2.000000    2.000000    2.000000    2.000000           2.000000   \n",
       "max           2.000000    2.000000    2.000000    2.000000           2.000000   \n",
       "\n",
       "         COUGHING  SHORTNESS OF BREATH  SWALLOWING DIFFICULTY  CHEST PAIN  \n",
       "count  276.000000           276.000000             276.000000  276.000000  \n",
       "mean     1.576087             1.630435               1.467391    1.557971  \n",
       "std      0.495075             0.483564               0.499842    0.497530  \n",
       "min      1.000000             1.000000               1.000000    1.000000  \n",
       "25%      1.000000             1.000000               1.000000    1.000000  \n",
       "50%      2.000000             2.000000               1.000000    2.000000  \n",
       "75%      2.000000             2.000000               2.000000    2.000000  \n",
       "max      2.000000             2.000000               2.000000    2.000000  "
      ]
     },
     "execution_count": 8,
     "metadata": {},
     "output_type": "execute_result"
    }
   ],
   "source": [
    "df.describe()"
   ]
  },
  {
   "cell_type": "markdown",
   "id": "2d434fe6",
   "metadata": {
    "papermill": {
     "duration": 0.009425,
     "end_time": "2022-07-22T15:22:33.372180",
     "exception": false,
     "start_time": "2022-07-22T15:22:33.362755",
     "status": "completed"
    },
    "tags": []
   },
   "source": [
    "**In this dataset, GENDER & LUNG_CANCER attributes are in object data type. So, let's convert them to numerical values using LabelEncoder from sklearn.\n",
    "LabelEncoder is a utility class to help normalize labels such that they contain only values between 0 and n_classes-1.\n",
    "It can also be used to transform non-numerical labels (as long as they are hashable and comparable) to numerical labels.**"
   ]
  },
  {
   "cell_type": "code",
   "execution_count": 9,
   "id": "529b3f9b",
   "metadata": {
    "execution": {
     "iopub.execute_input": "2022-07-22T15:22:33.393808Z",
     "iopub.status.busy": "2022-07-22T15:22:33.392800Z",
     "iopub.status.idle": "2022-07-22T15:22:33.538932Z",
     "shell.execute_reply": "2022-07-22T15:22:33.537955Z"
    },
    "papermill": {
     "duration": 0.159592,
     "end_time": "2022-07-22T15:22:33.541443",
     "exception": false,
     "start_time": "2022-07-22T15:22:33.381851",
     "status": "completed"
    },
    "tags": []
   },
   "outputs": [],
   "source": [
    "from sklearn import preprocessing\n",
    "le=preprocessing.LabelEncoder()\n",
    "df['GENDER']=le.fit_transform(df['GENDER'])\n",
    "df['LUNG_CANCER']=le.fit_transform(df['LUNG_CANCER'])"
   ]
  },
  {
   "cell_type": "code",
   "execution_count": 10,
   "id": "ee602d1a",
   "metadata": {
    "execution": {
     "iopub.execute_input": "2022-07-22T15:22:33.564130Z",
     "iopub.status.busy": "2022-07-22T15:22:33.563417Z",
     "iopub.status.idle": "2022-07-22T15:22:33.581050Z",
     "shell.execute_reply": "2022-07-22T15:22:33.580154Z"
    },
    "papermill": {
     "duration": 0.03138,
     "end_time": "2022-07-22T15:22:33.583147",
     "exception": false,
     "start_time": "2022-07-22T15:22:33.551767",
     "status": "completed"
    },
    "tags": []
   },
   "outputs": [
    {
     "data": {
      "text/html": [
       "<div>\n",
       "<style scoped>\n",
       "    .dataframe tbody tr th:only-of-type {\n",
       "        vertical-align: middle;\n",
       "    }\n",
       "\n",
       "    .dataframe tbody tr th {\n",
       "        vertical-align: top;\n",
       "    }\n",
       "\n",
       "    .dataframe thead th {\n",
       "        text-align: right;\n",
       "    }\n",
       "</style>\n",
       "<table border=\"1\" class=\"dataframe\">\n",
       "  <thead>\n",
       "    <tr style=\"text-align: right;\">\n",
       "      <th></th>\n",
       "      <th>GENDER</th>\n",
       "      <th>AGE</th>\n",
       "      <th>SMOKING</th>\n",
       "      <th>YELLOW_FINGERS</th>\n",
       "      <th>ANXIETY</th>\n",
       "      <th>PEER_PRESSURE</th>\n",
       "      <th>CHRONIC DISEASE</th>\n",
       "      <th>FATIGUE</th>\n",
       "      <th>ALLERGY</th>\n",
       "      <th>WHEEZING</th>\n",
       "      <th>ALCOHOL CONSUMING</th>\n",
       "      <th>COUGHING</th>\n",
       "      <th>SHORTNESS OF BREATH</th>\n",
       "      <th>SWALLOWING DIFFICULTY</th>\n",
       "      <th>CHEST PAIN</th>\n",
       "      <th>LUNG_CANCER</th>\n",
       "    </tr>\n",
       "  </thead>\n",
       "  <tbody>\n",
       "    <tr>\n",
       "      <th>0</th>\n",
       "      <td>1</td>\n",
       "      <td>69</td>\n",
       "      <td>1</td>\n",
       "      <td>2</td>\n",
       "      <td>2</td>\n",
       "      <td>1</td>\n",
       "      <td>1</td>\n",
       "      <td>2</td>\n",
       "      <td>1</td>\n",
       "      <td>2</td>\n",
       "      <td>2</td>\n",
       "      <td>2</td>\n",
       "      <td>2</td>\n",
       "      <td>2</td>\n",
       "      <td>2</td>\n",
       "      <td>1</td>\n",
       "    </tr>\n",
       "    <tr>\n",
       "      <th>1</th>\n",
       "      <td>1</td>\n",
       "      <td>74</td>\n",
       "      <td>2</td>\n",
       "      <td>1</td>\n",
       "      <td>1</td>\n",
       "      <td>1</td>\n",
       "      <td>2</td>\n",
       "      <td>2</td>\n",
       "      <td>2</td>\n",
       "      <td>1</td>\n",
       "      <td>1</td>\n",
       "      <td>1</td>\n",
       "      <td>2</td>\n",
       "      <td>2</td>\n",
       "      <td>2</td>\n",
       "      <td>1</td>\n",
       "    </tr>\n",
       "    <tr>\n",
       "      <th>2</th>\n",
       "      <td>0</td>\n",
       "      <td>59</td>\n",
       "      <td>1</td>\n",
       "      <td>1</td>\n",
       "      <td>1</td>\n",
       "      <td>2</td>\n",
       "      <td>1</td>\n",
       "      <td>2</td>\n",
       "      <td>1</td>\n",
       "      <td>2</td>\n",
       "      <td>1</td>\n",
       "      <td>2</td>\n",
       "      <td>2</td>\n",
       "      <td>1</td>\n",
       "      <td>2</td>\n",
       "      <td>0</td>\n",
       "    </tr>\n",
       "    <tr>\n",
       "      <th>3</th>\n",
       "      <td>1</td>\n",
       "      <td>63</td>\n",
       "      <td>2</td>\n",
       "      <td>2</td>\n",
       "      <td>2</td>\n",
       "      <td>1</td>\n",
       "      <td>1</td>\n",
       "      <td>1</td>\n",
       "      <td>1</td>\n",
       "      <td>1</td>\n",
       "      <td>2</td>\n",
       "      <td>1</td>\n",
       "      <td>1</td>\n",
       "      <td>2</td>\n",
       "      <td>2</td>\n",
       "      <td>0</td>\n",
       "    </tr>\n",
       "    <tr>\n",
       "      <th>4</th>\n",
       "      <td>0</td>\n",
       "      <td>63</td>\n",
       "      <td>1</td>\n",
       "      <td>2</td>\n",
       "      <td>1</td>\n",
       "      <td>1</td>\n",
       "      <td>1</td>\n",
       "      <td>1</td>\n",
       "      <td>1</td>\n",
       "      <td>2</td>\n",
       "      <td>1</td>\n",
       "      <td>2</td>\n",
       "      <td>2</td>\n",
       "      <td>1</td>\n",
       "      <td>1</td>\n",
       "      <td>0</td>\n",
       "    </tr>\n",
       "    <tr>\n",
       "      <th>...</th>\n",
       "      <td>...</td>\n",
       "      <td>...</td>\n",
       "      <td>...</td>\n",
       "      <td>...</td>\n",
       "      <td>...</td>\n",
       "      <td>...</td>\n",
       "      <td>...</td>\n",
       "      <td>...</td>\n",
       "      <td>...</td>\n",
       "      <td>...</td>\n",
       "      <td>...</td>\n",
       "      <td>...</td>\n",
       "      <td>...</td>\n",
       "      <td>...</td>\n",
       "      <td>...</td>\n",
       "      <td>...</td>\n",
       "    </tr>\n",
       "    <tr>\n",
       "      <th>279</th>\n",
       "      <td>0</td>\n",
       "      <td>59</td>\n",
       "      <td>1</td>\n",
       "      <td>2</td>\n",
       "      <td>2</td>\n",
       "      <td>2</td>\n",
       "      <td>1</td>\n",
       "      <td>1</td>\n",
       "      <td>2</td>\n",
       "      <td>2</td>\n",
       "      <td>1</td>\n",
       "      <td>2</td>\n",
       "      <td>1</td>\n",
       "      <td>2</td>\n",
       "      <td>1</td>\n",
       "      <td>1</td>\n",
       "    </tr>\n",
       "    <tr>\n",
       "      <th>280</th>\n",
       "      <td>0</td>\n",
       "      <td>59</td>\n",
       "      <td>2</td>\n",
       "      <td>1</td>\n",
       "      <td>1</td>\n",
       "      <td>1</td>\n",
       "      <td>2</td>\n",
       "      <td>2</td>\n",
       "      <td>2</td>\n",
       "      <td>1</td>\n",
       "      <td>1</td>\n",
       "      <td>1</td>\n",
       "      <td>2</td>\n",
       "      <td>1</td>\n",
       "      <td>1</td>\n",
       "      <td>0</td>\n",
       "    </tr>\n",
       "    <tr>\n",
       "      <th>281</th>\n",
       "      <td>1</td>\n",
       "      <td>55</td>\n",
       "      <td>2</td>\n",
       "      <td>1</td>\n",
       "      <td>1</td>\n",
       "      <td>1</td>\n",
       "      <td>1</td>\n",
       "      <td>2</td>\n",
       "      <td>2</td>\n",
       "      <td>1</td>\n",
       "      <td>1</td>\n",
       "      <td>1</td>\n",
       "      <td>2</td>\n",
       "      <td>1</td>\n",
       "      <td>2</td>\n",
       "      <td>0</td>\n",
       "    </tr>\n",
       "    <tr>\n",
       "      <th>282</th>\n",
       "      <td>1</td>\n",
       "      <td>46</td>\n",
       "      <td>1</td>\n",
       "      <td>2</td>\n",
       "      <td>2</td>\n",
       "      <td>1</td>\n",
       "      <td>1</td>\n",
       "      <td>1</td>\n",
       "      <td>1</td>\n",
       "      <td>1</td>\n",
       "      <td>1</td>\n",
       "      <td>1</td>\n",
       "      <td>1</td>\n",
       "      <td>2</td>\n",
       "      <td>2</td>\n",
       "      <td>0</td>\n",
       "    </tr>\n",
       "    <tr>\n",
       "      <th>283</th>\n",
       "      <td>1</td>\n",
       "      <td>60</td>\n",
       "      <td>1</td>\n",
       "      <td>2</td>\n",
       "      <td>2</td>\n",
       "      <td>1</td>\n",
       "      <td>1</td>\n",
       "      <td>2</td>\n",
       "      <td>1</td>\n",
       "      <td>2</td>\n",
       "      <td>2</td>\n",
       "      <td>2</td>\n",
       "      <td>2</td>\n",
       "      <td>2</td>\n",
       "      <td>2</td>\n",
       "      <td>1</td>\n",
       "    </tr>\n",
       "  </tbody>\n",
       "</table>\n",
       "<p>276 rows × 16 columns</p>\n",
       "</div>"
      ],
      "text/plain": [
       "     GENDER  AGE  SMOKING  YELLOW_FINGERS  ANXIETY  PEER_PRESSURE  \\\n",
       "0         1   69        1               2        2              1   \n",
       "1         1   74        2               1        1              1   \n",
       "2         0   59        1               1        1              2   \n",
       "3         1   63        2               2        2              1   \n",
       "4         0   63        1               2        1              1   \n",
       "..      ...  ...      ...             ...      ...            ...   \n",
       "279       0   59        1               2        2              2   \n",
       "280       0   59        2               1        1              1   \n",
       "281       1   55        2               1        1              1   \n",
       "282       1   46        1               2        2              1   \n",
       "283       1   60        1               2        2              1   \n",
       "\n",
       "     CHRONIC DISEASE  FATIGUE   ALLERGY   WHEEZING  ALCOHOL CONSUMING  \\\n",
       "0                  1         2         1         2                  2   \n",
       "1                  2         2         2         1                  1   \n",
       "2                  1         2         1         2                  1   \n",
       "3                  1         1         1         1                  2   \n",
       "4                  1         1         1         2                  1   \n",
       "..               ...       ...       ...       ...                ...   \n",
       "279                1         1         2         2                  1   \n",
       "280                2         2         2         1                  1   \n",
       "281                1         2         2         1                  1   \n",
       "282                1         1         1         1                  1   \n",
       "283                1         2         1         2                  2   \n",
       "\n",
       "     COUGHING  SHORTNESS OF BREATH  SWALLOWING DIFFICULTY  CHEST PAIN  \\\n",
       "0           2                    2                      2           2   \n",
       "1           1                    2                      2           2   \n",
       "2           2                    2                      1           2   \n",
       "3           1                    1                      2           2   \n",
       "4           2                    2                      1           1   \n",
       "..        ...                  ...                    ...         ...   \n",
       "279         2                    1                      2           1   \n",
       "280         1                    2                      1           1   \n",
       "281         1                    2                      1           2   \n",
       "282         1                    1                      2           2   \n",
       "283         2                    2                      2           2   \n",
       "\n",
       "     LUNG_CANCER  \n",
       "0              1  \n",
       "1              1  \n",
       "2              0  \n",
       "3              0  \n",
       "4              0  \n",
       "..           ...  \n",
       "279            1  \n",
       "280            0  \n",
       "281            0  \n",
       "282            0  \n",
       "283            1  \n",
       "\n",
       "[276 rows x 16 columns]"
      ]
     },
     "execution_count": 10,
     "metadata": {},
     "output_type": "execute_result"
    }
   ],
   "source": [
    "#Let's check what's happened now\n",
    "df"
   ]
  },
  {
   "cell_type": "markdown",
   "id": "4837e6dc",
   "metadata": {
    "papermill": {
     "duration": 0.009747,
     "end_time": "2022-07-22T15:22:33.603480",
     "exception": false,
     "start_time": "2022-07-22T15:22:33.593733",
     "status": "completed"
    },
    "tags": []
   },
   "source": [
    "**Note: Male=1 & Female=0. Also, Lung Cancer: YES=1 & NO=0**"
   ]
  },
  {
   "cell_type": "markdown",
   "id": "1072dbeb",
   "metadata": {
    "papermill": {
     "duration": 0.009856,
     "end_time": "2022-07-22T15:22:33.623361",
     "exception": false,
     "start_time": "2022-07-22T15:22:33.613505",
     "status": "completed"
    },
    "tags": []
   },
   "source": [
    "**Now let's do some Data Visualizations for the better understanding of how features are related to each other.**"
   ]
  },
  {
   "cell_type": "code",
   "execution_count": 11,
   "id": "b17cab07",
   "metadata": {
    "execution": {
     "iopub.execute_input": "2022-07-22T15:22:33.645822Z",
     "iopub.status.busy": "2022-07-22T15:22:33.644836Z",
     "iopub.status.idle": "2022-07-22T15:22:33.897475Z",
     "shell.execute_reply": "2022-07-22T15:22:33.896231Z"
    },
    "papermill": {
     "duration": 0.266786,
     "end_time": "2022-07-22T15:22:33.900216",
     "exception": false,
     "start_time": "2022-07-22T15:22:33.633430",
     "status": "completed"
    },
    "tags": []
   },
   "outputs": [
    {
     "data": {
      "image/png": "[encoded data removed]",
      "text/plain": [
       "<Figure size 1080x432 with 1 Axes>"
      ]
     },
     "metadata": {
      "needs_background": "light"
     },
     "output_type": "display_data"
    }
   ],
   "source": [
    "plt.figure(figsize=(15,6))\n",
    "sns.countplot('CHEST PAIN', data=df, hue = 'LUNG_CANCER',\n",
    "palette = 'hls')\n",
    "plt.title(\"Chest Pain Vs. Lung Cancer\")\n",
    "plt.show()"
   ]
  },
  {
   "cell_type": "code",
   "execution_count": 12,
   "id": "5faf7600",
   "metadata": {
    "execution": {
     "iopub.execute_input": "2022-07-22T15:22:33.923387Z",
     "iopub.status.busy": "2022-07-22T15:22:33.922990Z",
     "iopub.status.idle": "2022-07-22T15:22:34.124042Z",
     "shell.execute_reply": "2022-07-22T15:22:34.122892Z"
    },
    "papermill": {
     "duration": 0.216018,
     "end_time": "2022-07-22T15:22:34.126739",
     "exception": false,
     "start_time": "2022-07-22T15:22:33.910721",
     "status": "completed"
    },
    "tags": []
   },
   "outputs": [
    {
     "data": {
      "image/png": "[encoded data removed]",
      "text/plain": [
       "<Figure size 1080x432 with 1 Axes>"
      ]
     },
     "metadata": {
      "needs_background": "light"
     },
     "output_type": "display_data"
    }
   ],
   "source": [
    "plt.figure(figsize=(15,6))\n",
    "sns.countplot(df['LUNG_CANCER'], data=df, hue='SMOKING')\n",
    "plt.show()"
   ]
  },
  {
   "cell_type": "code",
   "execution_count": 13,
   "id": "db9bc788",
   "metadata": {
    "execution": {
     "iopub.execute_input": "2022-07-22T15:22:34.150915Z",
     "iopub.status.busy": "2022-07-22T15:22:34.149901Z",
     "iopub.status.idle": "2022-07-22T15:22:34.351212Z",
     "shell.execute_reply": "2022-07-22T15:22:34.350043Z"
    },
    "papermill": {
     "duration": 0.215836,
     "end_time": "2022-07-22T15:22:34.353753",
     "exception": false,
     "start_time": "2022-07-22T15:22:34.137917",
     "status": "completed"
    },
    "tags": []
   },
   "outputs": [
    {
     "data": {
      "image/png": "[encoded data removed]",
      "text/plain": [
       "<Figure size 1080x432 with 1 Axes>"
      ]
     },
     "metadata": {
      "needs_background": "light"
     },
     "output_type": "display_data"
    }
   ],
   "source": [
    "plt.figure(figsize=(15,6))\n",
    "sns.countplot(df['LUNG_CANCER'], data=df, hue='SWALLOWING DIFFICULTY')\n",
    "plt.show()"
   ]
  },
  {
   "cell_type": "code",
   "execution_count": 14,
   "id": "f058c271",
   "metadata": {
    "execution": {
     "iopub.execute_input": "2022-07-22T15:22:34.378566Z",
     "iopub.status.busy": "2022-07-22T15:22:34.377502Z",
     "iopub.status.idle": "2022-07-22T15:22:35.039364Z",
     "shell.execute_reply": "2022-07-22T15:22:35.037965Z"
    },
    "papermill": {
     "duration": 0.677219,
     "end_time": "2022-07-22T15:22:35.042251",
     "exception": false,
     "start_time": "2022-07-22T15:22:34.365032",
     "status": "completed"
    },
    "tags": []
   },
   "outputs": [
    {
     "data": {
      "image/png": "[encoded data removed]",
      "text/plain": [
       "<Figure size 1080x432 with 1 Axes>"
      ]
     },
     "metadata": {
      "needs_background": "light"
     },
     "output_type": "display_data"
    }
   ],
   "source": [
    "plt.figure(figsize=(15,6))\n",
    "sns.countplot(df['LUNG_CANCER'], data=df, hue='AGE')\n",
    "plt.show()"
   ]
  },
  {
   "cell_type": "code",
   "execution_count": 15,
   "id": "ebe5d9b8",
   "metadata": {
    "execution": {
     "iopub.execute_input": "2022-07-22T15:22:35.067652Z",
     "iopub.status.busy": "2022-07-22T15:22:35.067268Z",
     "iopub.status.idle": "2022-07-22T15:22:35.263885Z",
     "shell.execute_reply": "2022-07-22T15:22:35.263054Z"
    },
    "papermill": {
     "duration": 0.212014,
     "end_time": "2022-07-22T15:22:35.266120",
     "exception": false,
     "start_time": "2022-07-22T15:22:35.054106",
     "status": "completed"
    },
    "tags": []
   },
   "outputs": [
    {
     "data": {
      "image/png": "[encoded data removed]",
      "text/plain": [
       "<Figure size 1080x432 with 1 Axes>"
      ]
     },
     "metadata": {
      "needs_background": "light"
     },
     "output_type": "display_data"
    }
   ],
   "source": [
    "plt.figure(figsize=(15,6))\n",
    "sns.countplot(df['LUNG_CANCER'], data=df, hue='PEER_PRESSURE')\n",
    "plt.show()"
   ]
  },
  {
   "cell_type": "code",
   "execution_count": 16,
   "id": "609a1c7e",
   "metadata": {
    "execution": {
     "iopub.execute_input": "2022-07-22T15:22:35.291927Z",
     "iopub.status.busy": "2022-07-22T15:22:35.291303Z",
     "iopub.status.idle": "2022-07-22T15:22:35.498598Z",
     "shell.execute_reply": "2022-07-22T15:22:35.497230Z"
    },
    "papermill": {
     "duration": 0.223499,
     "end_time": "2022-07-22T15:22:35.501338",
     "exception": false,
     "start_time": "2022-07-22T15:22:35.277839",
     "status": "completed"
    },
    "tags": []
   },
   "outputs": [
    {
     "data": {
      "image/png": "[encoded data removed]",
      "text/plain": [
       "<Figure size 1080x432 with 1 Axes>"
      ]
     },
     "metadata": {
      "needs_background": "light"
     },
     "output_type": "display_data"
    }
   ],
   "source": [
    "plt.figure(figsize=(15,6))\n",
    "sns.countplot(df['LUNG_CANCER'], data=df, hue='SHORTNESS OF BREATH')\n",
    "plt.show()"
   ]
  },
  {
   "cell_type": "markdown",
   "id": "9f0d61d2",
   "metadata": {
    "papermill": {
     "duration": 0.012372,
     "end_time": "2022-07-22T15:22:35.526432",
     "exception": false,
     "start_time": "2022-07-22T15:22:35.514060",
     "status": "completed"
    },
    "tags": []
   },
   "source": [
    "**CORRELATION**"
   ]
  },
  {
   "cell_type": "code",
   "execution_count": 17,
   "id": "cf93b6ff",
   "metadata": {
    "execution": {
     "iopub.execute_input": "2022-07-22T15:22:35.553471Z",
     "iopub.status.busy": "2022-07-22T15:22:35.552434Z",
     "iopub.status.idle": "2022-07-22T15:22:35.582075Z",
     "shell.execute_reply": "2022-07-22T15:22:35.580910Z"
    },
    "papermill": {
     "duration": 0.04568,
     "end_time": "2022-07-22T15:22:35.584405",
     "exception": false,
     "start_time": "2022-07-22T15:22:35.538725",
     "status": "completed"
    },
    "tags": []
   },
   "outputs": [
    {
     "data": {
      "text/html": [
       "<div>\n",
       "<style scoped>\n",
       "    .dataframe tbody tr th:only-of-type {\n",
       "        vertical-align: middle;\n",
       "    }\n",
       "\n",
       "    .dataframe tbody tr th {\n",
       "        vertical-align: top;\n",
       "    }\n",
       "\n",
       "    .dataframe thead th {\n",
       "        text-align: right;\n",
       "    }\n",
       "</style>\n",
       "<table border=\"1\" class=\"dataframe\">\n",
       "  <thead>\n",
       "    <tr style=\"text-align: right;\">\n",
       "      <th></th>\n",
       "      <th>GENDER</th>\n",
       "      <th>AGE</th>\n",
       "      <th>SMOKING</th>\n",
       "      <th>YELLOW_FINGERS</th>\n",
       "      <th>ANXIETY</th>\n",
       "      <th>PEER_PRESSURE</th>\n",
       "      <th>CHRONIC DISEASE</th>\n",
       "      <th>FATIGUE</th>\n",
       "      <th>ALLERGY</th>\n",
       "      <th>WHEEZING</th>\n",
       "      <th>ALCOHOL CONSUMING</th>\n",
       "      <th>COUGHING</th>\n",
       "      <th>SHORTNESS OF BREATH</th>\n",
       "      <th>SWALLOWING DIFFICULTY</th>\n",
       "      <th>CHEST PAIN</th>\n",
       "      <th>LUNG_CANCER</th>\n",
       "    </tr>\n",
       "  </thead>\n",
       "  <tbody>\n",
       "    <tr>\n",
       "      <th>GENDER</th>\n",
       "      <td>1.000000</td>\n",
       "      <td>-0.013120</td>\n",
       "      <td>0.041131</td>\n",
       "      <td>-0.202506</td>\n",
       "      <td>-0.152032</td>\n",
       "      <td>-0.261427</td>\n",
       "      <td>-0.189925</td>\n",
       "      <td>-0.079020</td>\n",
       "      <td>0.150174</td>\n",
       "      <td>0.121047</td>\n",
       "      <td>0.434264</td>\n",
       "      <td>0.120228</td>\n",
       "      <td>-0.052893</td>\n",
       "      <td>-0.048959</td>\n",
       "      <td>0.361547</td>\n",
       "      <td>0.053666</td>\n",
       "    </tr>\n",
       "    <tr>\n",
       "      <th>AGE</th>\n",
       "      <td>-0.013120</td>\n",
       "      <td>1.000000</td>\n",
       "      <td>-0.073410</td>\n",
       "      <td>0.025773</td>\n",
       "      <td>0.050605</td>\n",
       "      <td>0.037848</td>\n",
       "      <td>-0.003431</td>\n",
       "      <td>0.021606</td>\n",
       "      <td>0.037139</td>\n",
       "      <td>0.052803</td>\n",
       "      <td>0.052049</td>\n",
       "      <td>0.168654</td>\n",
       "      <td>-0.009189</td>\n",
       "      <td>0.003199</td>\n",
       "      <td>-0.035806</td>\n",
       "      <td>0.106305</td>\n",
       "    </tr>\n",
       "    <tr>\n",
       "      <th>SMOKING</th>\n",
       "      <td>0.041131</td>\n",
       "      <td>-0.073410</td>\n",
       "      <td>1.000000</td>\n",
       "      <td>-0.020799</td>\n",
       "      <td>0.153389</td>\n",
       "      <td>-0.030364</td>\n",
       "      <td>-0.149415</td>\n",
       "      <td>-0.037803</td>\n",
       "      <td>-0.030179</td>\n",
       "      <td>-0.147081</td>\n",
       "      <td>-0.052771</td>\n",
       "      <td>-0.138553</td>\n",
       "      <td>0.051761</td>\n",
       "      <td>0.042152</td>\n",
       "      <td>0.106984</td>\n",
       "      <td>0.034878</td>\n",
       "    </tr>\n",
       "    <tr>\n",
       "      <th>YELLOW_FINGERS</th>\n",
       "      <td>-0.202506</td>\n",
       "      <td>0.025773</td>\n",
       "      <td>-0.020799</td>\n",
       "      <td>1.000000</td>\n",
       "      <td>0.558344</td>\n",
       "      <td>0.313067</td>\n",
       "      <td>0.015316</td>\n",
       "      <td>-0.099644</td>\n",
       "      <td>-0.147130</td>\n",
       "      <td>-0.058756</td>\n",
       "      <td>-0.273643</td>\n",
       "      <td>0.020803</td>\n",
       "      <td>-0.109959</td>\n",
       "      <td>0.333349</td>\n",
       "      <td>-0.099169</td>\n",
       "      <td>0.189192</td>\n",
       "    </tr>\n",
       "    <tr>\n",
       "      <th>ANXIETY</th>\n",
       "      <td>-0.152032</td>\n",
       "      <td>0.050605</td>\n",
       "      <td>0.153389</td>\n",
       "      <td>0.558344</td>\n",
       "      <td>1.000000</td>\n",
       "      <td>0.210278</td>\n",
       "      <td>-0.006938</td>\n",
       "      <td>-0.181474</td>\n",
       "      <td>-0.159451</td>\n",
       "      <td>-0.174009</td>\n",
       "      <td>-0.152228</td>\n",
       "      <td>-0.218843</td>\n",
       "      <td>-0.155678</td>\n",
       "      <td>0.478820</td>\n",
       "      <td>-0.123182</td>\n",
       "      <td>0.144322</td>\n",
       "    </tr>\n",
       "    <tr>\n",
       "      <th>PEER_PRESSURE</th>\n",
       "      <td>-0.261427</td>\n",
       "      <td>0.037848</td>\n",
       "      <td>-0.030364</td>\n",
       "      <td>0.313067</td>\n",
       "      <td>0.210278</td>\n",
       "      <td>1.000000</td>\n",
       "      <td>0.042893</td>\n",
       "      <td>0.094661</td>\n",
       "      <td>-0.066887</td>\n",
       "      <td>-0.037769</td>\n",
       "      <td>-0.132603</td>\n",
       "      <td>-0.068224</td>\n",
       "      <td>-0.214115</td>\n",
       "      <td>0.327764</td>\n",
       "      <td>-0.074655</td>\n",
       "      <td>0.195086</td>\n",
       "    </tr>\n",
       "    <tr>\n",
       "      <th>CHRONIC DISEASE</th>\n",
       "      <td>-0.189925</td>\n",
       "      <td>-0.003431</td>\n",
       "      <td>-0.149415</td>\n",
       "      <td>0.015316</td>\n",
       "      <td>-0.006938</td>\n",
       "      <td>0.042893</td>\n",
       "      <td>1.000000</td>\n",
       "      <td>-0.099411</td>\n",
       "      <td>0.134309</td>\n",
       "      <td>-0.040546</td>\n",
       "      <td>0.010144</td>\n",
       "      <td>-0.160813</td>\n",
       "      <td>-0.011760</td>\n",
       "      <td>0.068263</td>\n",
       "      <td>-0.048895</td>\n",
       "      <td>0.143692</td>\n",
       "    </tr>\n",
       "    <tr>\n",
       "      <th>FATIGUE</th>\n",
       "      <td>-0.079020</td>\n",
       "      <td>0.021606</td>\n",
       "      <td>-0.037803</td>\n",
       "      <td>-0.099644</td>\n",
       "      <td>-0.181474</td>\n",
       "      <td>0.094661</td>\n",
       "      <td>-0.099411</td>\n",
       "      <td>1.000000</td>\n",
       "      <td>-0.001841</td>\n",
       "      <td>0.152151</td>\n",
       "      <td>-0.181573</td>\n",
       "      <td>0.148538</td>\n",
       "      <td>0.407027</td>\n",
       "      <td>-0.115727</td>\n",
       "      <td>0.013757</td>\n",
       "      <td>0.160078</td>\n",
       "    </tr>\n",
       "    <tr>\n",
       "      <th>ALLERGY</th>\n",
       "      <td>0.150174</td>\n",
       "      <td>0.037139</td>\n",
       "      <td>-0.030179</td>\n",
       "      <td>-0.147130</td>\n",
       "      <td>-0.159451</td>\n",
       "      <td>-0.066887</td>\n",
       "      <td>0.134309</td>\n",
       "      <td>-0.001841</td>\n",
       "      <td>1.000000</td>\n",
       "      <td>0.166517</td>\n",
       "      <td>0.378125</td>\n",
       "      <td>0.206367</td>\n",
       "      <td>-0.018030</td>\n",
       "      <td>-0.037581</td>\n",
       "      <td>0.245440</td>\n",
       "      <td>0.333552</td>\n",
       "    </tr>\n",
       "    <tr>\n",
       "      <th>WHEEZING</th>\n",
       "      <td>0.121047</td>\n",
       "      <td>0.052803</td>\n",
       "      <td>-0.147081</td>\n",
       "      <td>-0.058756</td>\n",
       "      <td>-0.174009</td>\n",
       "      <td>-0.037769</td>\n",
       "      <td>-0.040546</td>\n",
       "      <td>0.152151</td>\n",
       "      <td>0.166517</td>\n",
       "      <td>1.000000</td>\n",
       "      <td>0.261061</td>\n",
       "      <td>0.353657</td>\n",
       "      <td>0.042289</td>\n",
       "      <td>0.108304</td>\n",
       "      <td>0.142846</td>\n",
       "      <td>0.249054</td>\n",
       "    </tr>\n",
       "    <tr>\n",
       "      <th>ALCOHOL CONSUMING</th>\n",
       "      <td>0.434264</td>\n",
       "      <td>0.052049</td>\n",
       "      <td>-0.052771</td>\n",
       "      <td>-0.273643</td>\n",
       "      <td>-0.152228</td>\n",
       "      <td>-0.132603</td>\n",
       "      <td>0.010144</td>\n",
       "      <td>-0.181573</td>\n",
       "      <td>0.378125</td>\n",
       "      <td>0.261061</td>\n",
       "      <td>1.000000</td>\n",
       "      <td>0.198023</td>\n",
       "      <td>-0.163370</td>\n",
       "      <td>-0.000635</td>\n",
       "      <td>0.310767</td>\n",
       "      <td>0.294422</td>\n",
       "    </tr>\n",
       "    <tr>\n",
       "      <th>COUGHING</th>\n",
       "      <td>0.120228</td>\n",
       "      <td>0.168654</td>\n",
       "      <td>-0.138553</td>\n",
       "      <td>0.020803</td>\n",
       "      <td>-0.218843</td>\n",
       "      <td>-0.068224</td>\n",
       "      <td>-0.160813</td>\n",
       "      <td>0.148538</td>\n",
       "      <td>0.206367</td>\n",
       "      <td>0.353657</td>\n",
       "      <td>0.198023</td>\n",
       "      <td>1.000000</td>\n",
       "      <td>0.284968</td>\n",
       "      <td>-0.136885</td>\n",
       "      <td>0.077988</td>\n",
       "      <td>0.253027</td>\n",
       "    </tr>\n",
       "    <tr>\n",
       "      <th>SHORTNESS OF BREATH</th>\n",
       "      <td>-0.052893</td>\n",
       "      <td>-0.009189</td>\n",
       "      <td>0.051761</td>\n",
       "      <td>-0.109959</td>\n",
       "      <td>-0.155678</td>\n",
       "      <td>-0.214115</td>\n",
       "      <td>-0.011760</td>\n",
       "      <td>0.407027</td>\n",
       "      <td>-0.018030</td>\n",
       "      <td>0.042289</td>\n",
       "      <td>-0.163370</td>\n",
       "      <td>0.284968</td>\n",
       "      <td>1.000000</td>\n",
       "      <td>-0.140307</td>\n",
       "      <td>0.044029</td>\n",
       "      <td>0.064407</td>\n",
       "    </tr>\n",
       "    <tr>\n",
       "      <th>SWALLOWING DIFFICULTY</th>\n",
       "      <td>-0.048959</td>\n",
       "      <td>0.003199</td>\n",
       "      <td>0.042152</td>\n",
       "      <td>0.333349</td>\n",
       "      <td>0.478820</td>\n",
       "      <td>0.327764</td>\n",
       "      <td>0.068263</td>\n",
       "      <td>-0.115727</td>\n",
       "      <td>-0.037581</td>\n",
       "      <td>0.108304</td>\n",
       "      <td>-0.000635</td>\n",
       "      <td>-0.136885</td>\n",
       "      <td>-0.140307</td>\n",
       "      <td>1.000000</td>\n",
       "      <td>0.102674</td>\n",
       "      <td>0.268940</td>\n",
       "    </tr>\n",
       "    <tr>\n",
       "      <th>CHEST PAIN</th>\n",
       "      <td>0.361547</td>\n",
       "      <td>-0.035806</td>\n",
       "      <td>0.106984</td>\n",
       "      <td>-0.099169</td>\n",
       "      <td>-0.123182</td>\n",
       "      <td>-0.074655</td>\n",
       "      <td>-0.048895</td>\n",
       "      <td>0.013757</td>\n",
       "      <td>0.245440</td>\n",
       "      <td>0.142846</td>\n",
       "      <td>0.310767</td>\n",
       "      <td>0.077988</td>\n",
       "      <td>0.044029</td>\n",
       "      <td>0.102674</td>\n",
       "      <td>1.000000</td>\n",
       "      <td>0.194856</td>\n",
       "    </tr>\n",
       "    <tr>\n",
       "      <th>LUNG_CANCER</th>\n",
       "      <td>0.053666</td>\n",
       "      <td>0.106305</td>\n",
       "      <td>0.034878</td>\n",
       "      <td>0.189192</td>\n",
       "      <td>0.144322</td>\n",
       "      <td>0.195086</td>\n",
       "      <td>0.143692</td>\n",
       "      <td>0.160078</td>\n",
       "      <td>0.333552</td>\n",
       "      <td>0.249054</td>\n",
       "      <td>0.294422</td>\n",
       "      <td>0.253027</td>\n",
       "      <td>0.064407</td>\n",
       "      <td>0.268940</td>\n",
       "      <td>0.194856</td>\n",
       "      <td>1.000000</td>\n",
       "    </tr>\n",
       "  </tbody>\n",
       "</table>\n",
       "</div>"
      ],
      "text/plain": [
       "                         GENDER       AGE   SMOKING  YELLOW_FINGERS   ANXIETY  \\\n",
       "GENDER                 1.000000 -0.013120  0.041131       -0.202506 -0.152032   \n",
       "AGE                   -0.013120  1.000000 -0.073410        0.025773  0.050605   \n",
       "SMOKING                0.041131 -0.073410  1.000000       -0.020799  0.153389   \n",
       "YELLOW_FINGERS        -0.202506  0.025773 -0.020799        1.000000  0.558344   \n",
       "ANXIETY               -0.152032  0.050605  0.153389        0.558344  1.000000   \n",
       "PEER_PRESSURE         -0.261427  0.037848 -0.030364        0.313067  0.210278   \n",
       "CHRONIC DISEASE       -0.189925 -0.003431 -0.149415        0.015316 -0.006938   \n",
       "FATIGUE               -0.079020  0.021606 -0.037803       -0.099644 -0.181474   \n",
       "ALLERGY                0.150174  0.037139 -0.030179       -0.147130 -0.159451   \n",
       "WHEEZING               0.121047  0.052803 -0.147081       -0.058756 -0.174009   \n",
       "ALCOHOL CONSUMING      0.434264  0.052049 -0.052771       -0.273643 -0.152228   \n",
       "COUGHING               0.120228  0.168654 -0.138553        0.020803 -0.218843   \n",
       "SHORTNESS OF BREATH   -0.052893 -0.009189  0.051761       -0.109959 -0.155678   \n",
       "SWALLOWING DIFFICULTY -0.048959  0.003199  0.042152        0.333349  0.478820   \n",
       "CHEST PAIN             0.361547 -0.035806  0.106984       -0.099169 -0.123182   \n",
       "LUNG_CANCER            0.053666  0.106305  0.034878        0.189192  0.144322   \n",
       "\n",
       "                       PEER_PRESSURE  CHRONIC DISEASE  FATIGUE   ALLERGY   \\\n",
       "GENDER                     -0.261427        -0.189925 -0.079020  0.150174   \n",
       "AGE                         0.037848        -0.003431  0.021606  0.037139   \n",
       "SMOKING                    -0.030364        -0.149415 -0.037803 -0.030179   \n",
       "YELLOW_FINGERS              0.313067         0.015316 -0.099644 -0.147130   \n",
       "ANXIETY                     0.210278        -0.006938 -0.181474 -0.159451   \n",
       "PEER_PRESSURE               1.000000         0.042893  0.094661 -0.066887   \n",
       "CHRONIC DISEASE             0.042893         1.000000 -0.099411  0.134309   \n",
       "FATIGUE                     0.094661        -0.099411  1.000000 -0.001841   \n",
       "ALLERGY                    -0.066887         0.134309 -0.001841  1.000000   \n",
       "WHEEZING                   -0.037769        -0.040546  0.152151  0.166517   \n",
       "ALCOHOL CONSUMING          -0.132603         0.010144 -0.181573  0.378125   \n",
       "COUGHING                   -0.068224        -0.160813  0.148538  0.206367   \n",
       "SHORTNESS OF BREATH        -0.214115        -0.011760  0.407027 -0.018030   \n",
       "SWALLOWING DIFFICULTY       0.327764         0.068263 -0.115727 -0.037581   \n",
       "CHEST PAIN                 -0.074655        -0.048895  0.013757  0.245440   \n",
       "LUNG_CANCER                 0.195086         0.143692  0.160078  0.333552   \n",
       "\n",
       "                       WHEEZING  ALCOHOL CONSUMING  COUGHING  \\\n",
       "GENDER                 0.121047           0.434264  0.120228   \n",
       "AGE                    0.052803           0.052049  0.168654   \n",
       "SMOKING               -0.147081          -0.052771 -0.138553   \n",
       "YELLOW_FINGERS        -0.058756          -0.273643  0.020803   \n",
       "ANXIETY               -0.174009          -0.152228 -0.218843   \n",
       "PEER_PRESSURE         -0.037769          -0.132603 -0.068224   \n",
       "CHRONIC DISEASE       -0.040546           0.010144 -0.160813   \n",
       "FATIGUE                0.152151          -0.181573  0.148538   \n",
       "ALLERGY                0.166517           0.378125  0.206367   \n",
       "WHEEZING               1.000000           0.261061  0.353657   \n",
       "ALCOHOL CONSUMING      0.261061           1.000000  0.198023   \n",
       "COUGHING               0.353657           0.198023  1.000000   \n",
       "SHORTNESS OF BREATH    0.042289          -0.163370  0.284968   \n",
       "SWALLOWING DIFFICULTY  0.108304          -0.000635 -0.136885   \n",
       "CHEST PAIN             0.142846           0.310767  0.077988   \n",
       "LUNG_CANCER            0.249054           0.294422  0.253027   \n",
       "\n",
       "                       SHORTNESS OF BREATH  SWALLOWING DIFFICULTY  CHEST PAIN  \\\n",
       "GENDER                           -0.052893              -0.048959    0.361547   \n",
       "AGE                              -0.009189               0.003199   -0.035806   \n",
       "SMOKING                           0.051761               0.042152    0.106984   \n",
       "YELLOW_FINGERS                   -0.109959               0.333349   -0.099169   \n",
       "ANXIETY                          -0.155678               0.478820   -0.123182   \n",
       "PEER_PRESSURE                    -0.214115               0.327764   -0.074655   \n",
       "CHRONIC DISEASE                  -0.011760               0.068263   -0.048895   \n",
       "FATIGUE                           0.407027              -0.115727    0.013757   \n",
       "ALLERGY                          -0.018030              -0.037581    0.245440   \n",
       "WHEEZING                          0.042289               0.108304    0.142846   \n",
       "ALCOHOL CONSUMING                -0.163370              -0.000635    0.310767   \n",
       "COUGHING                          0.284968              -0.136885    0.077988   \n",
       "SHORTNESS OF BREATH               1.000000              -0.140307    0.044029   \n",
       "SWALLOWING DIFFICULTY            -0.140307               1.000000    0.102674   \n",
       "CHEST PAIN                        0.044029               0.102674    1.000000   \n",
       "LUNG_CANCER                       0.064407               0.268940    0.194856   \n",
       "\n",
       "                       LUNG_CANCER  \n",
       "GENDER                    0.053666  \n",
       "AGE                       0.106305  \n",
       "SMOKING                   0.034878  \n",
       "YELLOW_FINGERS            0.189192  \n",
       "ANXIETY                   0.144322  \n",
       "PEER_PRESSURE             0.195086  \n",
       "CHRONIC DISEASE           0.143692  \n",
       "FATIGUE                   0.160078  \n",
       "ALLERGY                   0.333552  \n",
       "WHEEZING                  0.249054  \n",
       "ALCOHOL CONSUMING         0.294422  \n",
       "COUGHING                  0.253027  \n",
       "SHORTNESS OF BREATH       0.064407  \n",
       "SWALLOWING DIFFICULTY     0.268940  \n",
       "CHEST PAIN                0.194856  \n",
       "LUNG_CANCER               1.000000  "
      ]
     },
     "execution_count": 17,
     "metadata": {},
     "output_type": "execute_result"
    }
   ],
   "source": [
    "#Finding Correlation\n",
    "cn=df.corr()\n",
    "cn"
   ]
  },
  {
   "cell_type": "code",
   "execution_count": 18,
   "id": "bc3051e6",
   "metadata": {
    "execution": {
     "iopub.execute_input": "2022-07-22T15:22:35.612262Z",
     "iopub.status.busy": "2022-07-22T15:22:35.611786Z",
     "iopub.status.idle": "2022-07-22T15:22:36.989289Z",
     "shell.execute_reply": "2022-07-22T15:22:36.987951Z"
    },
    "papermill": {
     "duration": 1.395698,
     "end_time": "2022-07-22T15:22:36.993044",
     "exception": false,
     "start_time": "2022-07-22T15:22:35.597346",
     "status": "completed"
    },
    "tags": []
   },
   "outputs": [
    {
     "data": {
      "image/png": "[encoded data removed]",
      "text/plain": [
       "<Figure size 1296x1296 with 2 Axes>"
      ]
     },
     "metadata": {
      "needs_background": "light"
     },
     "output_type": "display_data"
    }
   ],
   "source": [
    "#Correlation \n",
    "cmap=sns.diverging_palette(260,-10,s=50, l=75, n=6,\n",
    "as_cmap=True)\n",
    "plt.subplots(figsize=(18,18))\n",
    "sns.heatmap(cn,cmap=cmap,annot=True, square=True)\n",
    "plt.show()"
   ]
  },
  {
   "cell_type": "markdown",
   "id": "3080cfcc",
   "metadata": {
    "papermill": {
     "duration": 0.015197,
     "end_time": "2022-07-22T15:22:37.023921",
     "exception": false,
     "start_time": "2022-07-22T15:22:37.008724",
     "status": "completed"
    },
    "tags": []
   },
   "source": [
    "**Linear Regression**"
   ]
  },
  {
   "cell_type": "code",
   "execution_count": 19,
   "id": "ccd90da7",
   "metadata": {
    "execution": {
     "iopub.execute_input": "2022-07-22T15:22:37.056030Z",
     "iopub.status.busy": "2022-07-22T15:22:37.055394Z",
     "iopub.status.idle": "2022-07-22T15:22:37.061061Z",
     "shell.execute_reply": "2022-07-22T15:22:37.060183Z"
    },
    "papermill": {
     "duration": 0.024239,
     "end_time": "2022-07-22T15:22:37.063164",
     "exception": false,
     "start_time": "2022-07-22T15:22:37.038925",
     "status": "completed"
    },
    "tags": []
   },
   "outputs": [],
   "source": [
    "#Splitting independent and dependent variables\n",
    "X = df.drop('LUNG_CANCER', axis = 1)\n",
    "y = df['LUNG_CANCER']"
   ]
  },
  {
   "cell_type": "markdown",
   "id": "8aaba65b",
   "metadata": {
    "papermill": {
     "duration": 0.014664,
     "end_time": "2022-07-22T15:22:37.092952",
     "exception": false,
     "start_time": "2022-07-22T15:22:37.078288",
     "status": "completed"
    },
    "tags": []
   },
   "source": []
  },
  {
   "cell_type": "code",
   "execution_count": 20,
   "id": "cfacfecc",
   "metadata": {
    "execution": {
     "iopub.execute_input": "2022-07-22T15:22:37.125067Z",
     "iopub.status.busy": "2022-07-22T15:22:37.124623Z",
     "iopub.status.idle": "2022-07-22T15:22:37.193419Z",
     "shell.execute_reply": "2022-07-22T15:22:37.192099Z"
    },
    "papermill": {
     "duration": 0.088199,
     "end_time": "2022-07-22T15:22:37.196133",
     "exception": false,
     "start_time": "2022-07-22T15:22:37.107934",
     "status": "completed"
    },
    "tags": []
   },
   "outputs": [],
   "source": [
    "#Splitting data for training and testing\n",
    "from sklearn.model_selection import train_test_split\n",
    "X_train, X_test, y_train, y_test= train_test_split(X, y,\n",
    "test_size= 0.25,\n",
    "random_state=0)"
   ]
  },
  {
   "cell_type": "code",
   "execution_count": 21,
   "id": "1e564e86",
   "metadata": {
    "execution": {
     "iopub.execute_input": "2022-07-22T15:22:37.227991Z",
     "iopub.status.busy": "2022-07-22T15:22:37.227583Z",
     "iopub.status.idle": "2022-07-22T15:22:37.347641Z",
     "shell.execute_reply": "2022-07-22T15:22:37.346585Z"
    },
    "papermill": {
     "duration": 0.139137,
     "end_time": "2022-07-22T15:22:37.350214",
     "exception": false,
     "start_time": "2022-07-22T15:22:37.211077",
     "status": "completed"
    },
    "tags": []
   },
   "outputs": [
    {
     "data": {
      "text/plain": [
       "LogisticRegression(random_state=0)"
      ]
     },
     "execution_count": 21,
     "metadata": {},
     "output_type": "execute_result"
    }
   ],
   "source": [
    "#Fitting training data to the model\n",
    "from sklearn.linear_model import LogisticRegression\n",
    "model=LogisticRegression(random_state=0)\n",
    "model.fit(X_train, y_train)"
   ]
  },
  {
   "cell_type": "code",
   "execution_count": 22,
   "id": "cf1d373e",
   "metadata": {
    "execution": {
     "iopub.execute_input": "2022-07-22T15:22:37.383858Z",
     "iopub.status.busy": "2022-07-22T15:22:37.383472Z",
     "iopub.status.idle": "2022-07-22T15:22:37.392737Z",
     "shell.execute_reply": "2022-07-22T15:22:37.391923Z"
    },
    "papermill": {
     "duration": 0.028579,
     "end_time": "2022-07-22T15:22:37.394724",
     "exception": false,
     "start_time": "2022-07-22T15:22:37.366145",
     "status": "completed"
    },
    "tags": []
   },
   "outputs": [
    {
     "data": {
      "text/plain": [
       "array([0, 1, 1, 1, 1, 1, 1, 1, 1, 0, 1, 1, 1, 1, 1, 1, 1, 1, 1, 0, 1, 1,\n",
       "       1, 1, 0, 1, 1, 1, 1, 1, 1, 1, 1, 1, 1, 1, 0, 1, 1, 1, 1, 1, 1, 1,\n",
       "       1, 1, 0, 1, 1, 1, 1, 0, 1, 0, 1, 0, 1, 1, 0, 1, 1, 1, 1, 1, 1, 1,\n",
       "       1, 1, 1])"
      ]
     },
     "execution_count": 22,
     "metadata": {},
     "output_type": "execute_result"
    }
   ],
   "source": [
    "#Predicting result using testing data\n",
    "y_pred= model.predict(X_test)\n",
    "y_pred"
   ]
  },
  {
   "cell_type": "code",
   "execution_count": 23,
   "id": "0a014ca0",
   "metadata": {
    "execution": {
     "iopub.execute_input": "2022-07-22T15:22:37.427116Z",
     "iopub.status.busy": "2022-07-22T15:22:37.426369Z",
     "iopub.status.idle": "2022-07-22T15:22:37.437466Z",
     "shell.execute_reply": "2022-07-22T15:22:37.436651Z"
    },
    "papermill": {
     "duration": 0.029522,
     "end_time": "2022-07-22T15:22:37.439451",
     "exception": false,
     "start_time": "2022-07-22T15:22:37.409929",
     "status": "completed"
    },
    "tags": []
   },
   "outputs": [
    {
     "data": {
      "text/html": [
       "<div>\n",
       "<style scoped>\n",
       "    .dataframe tbody tr th:only-of-type {\n",
       "        vertical-align: middle;\n",
       "    }\n",
       "\n",
       "    .dataframe tbody tr th {\n",
       "        vertical-align: top;\n",
       "    }\n",
       "\n",
       "    .dataframe thead th {\n",
       "        text-align: right;\n",
       "    }\n",
       "</style>\n",
       "<table border=\"1\" class=\"dataframe\">\n",
       "  <thead>\n",
       "    <tr style=\"text-align: right;\">\n",
       "      <th></th>\n",
       "      <th>Actual</th>\n",
       "      <th>Predictions</th>\n",
       "    </tr>\n",
       "  </thead>\n",
       "  <tbody>\n",
       "    <tr>\n",
       "      <th>187</th>\n",
       "      <td>1</td>\n",
       "      <td>0</td>\n",
       "    </tr>\n",
       "    <tr>\n",
       "      <th>15</th>\n",
       "      <td>1</td>\n",
       "      <td>1</td>\n",
       "    </tr>\n",
       "    <tr>\n",
       "      <th>55</th>\n",
       "      <td>1</td>\n",
       "      <td>1</td>\n",
       "    </tr>\n",
       "    <tr>\n",
       "      <th>74</th>\n",
       "      <td>1</td>\n",
       "      <td>1</td>\n",
       "    </tr>\n",
       "    <tr>\n",
       "      <th>191</th>\n",
       "      <td>1</td>\n",
       "      <td>1</td>\n",
       "    </tr>\n",
       "    <tr>\n",
       "      <th>...</th>\n",
       "      <td>...</td>\n",
       "      <td>...</td>\n",
       "    </tr>\n",
       "    <tr>\n",
       "      <th>179</th>\n",
       "      <td>1</td>\n",
       "      <td>1</td>\n",
       "    </tr>\n",
       "    <tr>\n",
       "      <th>208</th>\n",
       "      <td>1</td>\n",
       "      <td>1</td>\n",
       "    </tr>\n",
       "    <tr>\n",
       "      <th>279</th>\n",
       "      <td>1</td>\n",
       "      <td>1</td>\n",
       "    </tr>\n",
       "    <tr>\n",
       "      <th>76</th>\n",
       "      <td>1</td>\n",
       "      <td>1</td>\n",
       "    </tr>\n",
       "    <tr>\n",
       "      <th>44</th>\n",
       "      <td>1</td>\n",
       "      <td>1</td>\n",
       "    </tr>\n",
       "  </tbody>\n",
       "</table>\n",
       "<p>69 rows × 2 columns</p>\n",
       "</div>"
      ],
      "text/plain": [
       "     Actual  Predictions\n",
       "187       1            0\n",
       "15        1            1\n",
       "55        1            1\n",
       "74        1            1\n",
       "191       1            1\n",
       "..      ...          ...\n",
       "179       1            1\n",
       "208       1            1\n",
       "279       1            1\n",
       "76        1            1\n",
       "44        1            1\n",
       "\n",
       "[69 rows x 2 columns]"
      ]
     },
     "execution_count": 23,
     "metadata": {},
     "output_type": "execute_result"
    }
   ],
   "source": [
    "#Comparing predicted values with the actual values\n",
    "Scores=pd.DataFrame({'Actual':y_test,'Predictions':y_pred})\n",
    "Scores"
   ]
  },
  {
   "cell_type": "code",
   "execution_count": 24,
   "id": "b168dfe0",
   "metadata": {
    "execution": {
     "iopub.execute_input": "2022-07-22T15:22:37.472549Z",
     "iopub.status.busy": "2022-07-22T15:22:37.471733Z",
     "iopub.status.idle": "2022-07-22T15:22:37.478918Z",
     "shell.execute_reply": "2022-07-22T15:22:37.478112Z"
    },
    "papermill": {
     "duration": 0.026057,
     "end_time": "2022-07-22T15:22:37.480898",
     "exception": false,
     "start_time": "2022-07-22T15:22:37.454841",
     "status": "completed"
    },
    "tags": []
   },
   "outputs": [
    {
     "data": {
      "text/plain": [
       "0.8985507246376812"
      ]
     },
     "execution_count": 24,
     "metadata": {},
     "output_type": "execute_result"
    }
   ],
   "source": [
    "#Model accuracy\n",
    "from sklearn.metrics import accuracy_score\n",
    "accuracy =accuracy_score(y_test, y_pred)\n",
    "accuracy"
   ]
  },
  {
   "cell_type": "markdown",
   "id": "fcb5b230",
   "metadata": {
    "papermill": {
     "duration": 0.01515,
     "end_time": "2022-07-22T15:22:37.511631",
     "exception": false,
     "start_time": "2022-07-22T15:22:37.496481",
     "status": "completed"
    },
    "tags": []
   },
   "source": [
    "**This model is almost 90% accurate.**"
   ]
  }
 ],
 "metadata": {
  "kernelspec": {
   "display_name": "Python 3",
   "language": "python",
   "name": "python3"
  },
  "language_info": {
   "codemirror_mode": {
    "name": "ipython",
    "version": 3
   },
   "file_extension": ".py",
   "mimetype": "text/x-python",
   "name": "python",
   "nbconvert_exporter": "python",
   "pygments_lexer": "ipython3",
   "version": "3.7.12"
  },
  "papermill": {
   "default_parameters": {},
   "duration": 16.646009,
   "end_time": "2022-07-22T15:22:38.248959",
   "environment_variables": {},
   "exception": null,
   "input_path": "__notebook__.ipynb",
   "output_path": "__notebook__.ipynb",
   "parameters": {},
   "start_time": "2022-07-22T15:22:21.602950",
   "version": "2.3.4"
  }
 },
 "nbformat": 4,
 "nbformat_minor": 5
}
